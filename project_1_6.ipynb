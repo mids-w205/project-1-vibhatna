{
 "cells": [
  {
   "cell_type": "markdown",
   "id": "cd11da2a",
   "metadata": {},
   "source": [
    "# Project 1, Part 6, Identifying Best Customers\n"
   ]
  },
  {
   "cell_type": "markdown",
   "id": "701f1c25",
   "metadata": {},
   "source": [
    "# 1.6 Ideas on how the sales data can be used to help identify best customers\n",
    "\n",
    "The data science team would like to know your best ideas on how the sales data can be used to help identify the company's best customers.\n",
    "\n",
    "\n",
    "\n",
    "They are going to start with the most common and most basic model known as RFM, which consists of the 3 dimensions.\n",
    "\n",
    "* R - Recency - How recently did the customer purchase?\n",
    "\n",
    "* F - Frequency - How often do they purchase?\n",
    "\n",
    "* M - Monetary Value - How much do they spend?\n",
    "\n",
    "\n",
    "\n",
    "At first glance, it's pretty easy to think of a simple query for each dimension.\n",
    "\n",
    "However, after some thought, it's not quite so easy. It's very open ended, with a lot of grey areas, and no single right or wrong answer (just like 99% of data science and AI!)  For each dimension, there can be some pretty complex ways to determine.\n",
    "\n",
    "The data science team also has to come up with a way to synthesize the 3 dimensions into a single customer value for each customer.\n",
    "\n",
    "\n",
    "\n",
    "The data science team would like for you to present your ideas in the form of a title and 4 paragraphs as follows:\n",
    "\n",
    "* Title - A title describing what you will be explaining\n",
    "\n",
    "* Recency - A brief paragraph explaining your ideas on how the data can be used to determine recency.  \n",
    "\n",
    "* Frequency - A brief paragraph explaining your ideas on how the data can be used to determine frequency.\n",
    "\n",
    "* Monetary Value - A brief paragraph explaining your ideas on how the data can be used to determine monetary value.\n",
    "\n",
    "* Synthesis - A brief paragraph explaining your ideas on how to synthesize the 3 dimensions of recency, frequency, and monetary value into a customer value for each customer and how to determine who the best customers are.\n",
    "\n",
    "\n",
    "\n",
    "Put the title and all 4 paragraphs in a single markdown cell.\n",
    "\n",
    "Note that you do not write code for this, only english language descriptions of your ideas.\n",
    "\n"
   ]
  },
  {
   "cell_type": "markdown",
   "id": "67dd986f",
   "metadata": {},
   "source": [
    "# Boost Your Marketing Strategy with RFM Analysis for Customer Value Estimation\n",
    "\n",
    "## Recency\n",
    "Recency measures how recently a customer has made a purchase. Computing raw (unnormalized) recency score requires: 1) Defining a **reference date**, such as the last date in the sales data or the current date, 2) For each customer, finding the **most recent date** of purchase in the sales data and 3) Subtracting the most recent date of purchase from the reference date to get the number of days since the last purchase. This is the **raw recency score** for each customer. For example, if we have a data set of gourmet food sales from January 1, 2020, to December 31, 2020, and we use December 31, 2020, as the reference date, then for a customer who bought gourmet food on January 15, February 10, and November 20 in 2020, their most recent purchase was on November 20, so their recency score is December 31 - November 20 = 41 days. Depending on the distribution of raw recency scores, we can then group or segment customers into different categories using **quintile approach** and assign each customer a recency rating from one to five based on which quintile they fall into. A lower rating indicates a longer time from the last purchase and a higher rating indicates a shorter time from the last purchase. Recency rate only provides limited information and is useful mainly for **targeting new (first-time) customers**.\n",
    "\n",
    "## Frequency\n",
    "Frequency measures how often a customer has made a purchase. Computing raw frequency score based on counting the number of purchases a customer has made in the chosen period has information loss, hence I believe using **exponential weighted average** (EWA) is an ideal approach. EWA is a method of calculating an average that **gives more weight to recent values and less weight to older values**. The idea behind EWA is that recent values are more relevant or informative than older values, and therefore should have more influence. \n",
    "\n",
    "$ EWA_{t} = α * Frequency_{t} + (1 - α) * EWA_{t-1}$\n",
    "\n",
    "A smoothing factor, denoted by alpha (α), that determines how much weight each value gets. The smoothing factor is a number between 0 and 1, where 0 means no smoothing (the average is just the latest value) and 1 means full smoothing (the average is the same as the overall mean). A common choice for alpha is 0.1, which means that each value gets 10% of the weight of the previous value. Computing raw (unnormalized) recency score requires: 1) Defining a **time-interval (monthly), and counting purchases** made in that time, 2) Creating a **time-series** and computing the exponential weighted average for the sales frequency in each time step. EWA **differentiates customers with similar sales frequency, based on their purchase history**. Depending on the distribution of raw frequency scores, we can then group or segment customers into different categories using quintile approach and assign each customer a frequency rating from one to five based on which quintile they fall into. A lower rating indicates a lower purchase frequency and old customers, whereas a higher rating indicates a higher purchase frequency and new customers.\n",
    "\n",
    "\n",
    "## Monetary\n",
    "Monetary value measures how much a customer has spent. There are few ways to compute raw monetary score: 1) Aggregating the total amount spent by each customer in a given period such as a year or a quarter, 2) **Average order value** (AOV), which is the total amount spent divided by the number of orders and 3) **Customer lifetime value** (CLV), which is the projected future revenue from a customer. CLV is computed using the following approach:\n",
    "\n",
    "CLV = Average revenue per customer * Average retention rate * Average customer lifespan\n",
    "\n",
    "Average revenue per customer is the amount of money that a customer spends with a business in a given period, such as a month or a year. Average retention rate is the percentage of customers who continue to buy from the business in each period. Average customer lifespan is the number of periods that a customer stays with the business before churning or leaving. I believe **CLV is a complex but powerful way for representing the raw monetary score**. Depending on the distribution of raw monetary scores, we can then group or segment customers into different categories using **quintile approach** and assign each customer a frequency rating from one to five based on which quintile they fall into. A lower rating indicates the expected revenue from a customer is low, whereas a higher rating indicates the expected revenue from a customer is high.\n",
    "\n",
    "\n",
    "## Synthesis\n",
    "The above suggestions for computing recency, frequency, and monetary value, ensure that these ratings are on the same scale (1-5) and semantic meaning (1-low and 5-high), which makes it easier to synthesize into a customer value. I believe the **frequency score, should have the maximum influence** as it’s clear metric for identifying the company’s best and loyal customers. This should be preceded by monetary value, as in the end revenue / profit is what makes a company successful and big. The least influence should be recency value, as it provides less information to establish customer loyalty.  I propose a **weighted metric for each dimension to compute the customer value**.\n",
    "\n",
    "$ Customer Value = R * W_{R} + F * W_{F} + M * W_{M} $\n",
    "\n",
    "The proposed weight for RFM Value is [Recency: 0.1, Frequency: 0.6, Monetary: 0.3], which keeps the customer value in range [1,5]. A higher rating indicates the company’s best customer, and a lower rating indicates the opposite. For example, if Customer A has an RFM value: 432, then its customer value is 4 * 0.1 + 3 * 0.6 + 2 * 0.3 = 2.8 and if Customer B has an RFM value: 342, then its customer value is 3 * 0.1 + 4 * 0.6 + 2 * 0.3 = 3.3\n",
    "\n",
    "RFM analysis also has some limitations and challenges, such as: 1) It does not account for other factors that may influence customer loyalty or satisfaction, such as product quality, customer feedback, preferences, or expectations. 2) It assumes that past behavior is a good predictor of future behavior, which may not always be true. 3) It does not account for the costs of acquiring and retaining customers or the margins of different products or services. For example, a customer who buys frequently and spends a lot may not be profitable if they require high marketing expenses or discounts to attract and retain them or if they buy low-margin products or services. 4) It does not account for the interactions and relationships among customers or the effects of external factors such as competition, seasonality, trends, or events.\n"
   ]
  },
  {
   "cell_type": "code",
   "execution_count": null,
   "id": "c4e9b7c3",
   "metadata": {},
   "outputs": [],
   "source": []
  }
 ],
 "metadata": {
  "kernelspec": {
   "display_name": "Python 3 (ipykernel)",
   "language": "python",
   "name": "python3"
  },
  "language_info": {
   "codemirror_mode": {
    "name": "ipython",
    "version": 3
   },
   "file_extension": ".py",
   "mimetype": "text/x-python",
   "name": "python",
   "nbconvert_exporter": "python",
   "pygments_lexer": "ipython3",
   "version": "3.9.7"
  }
 },
 "nbformat": 4,
 "nbformat_minor": 5
}
